{
 "cells": [
  {
   "cell_type": "code",
   "execution_count": 1,
   "id": "3bc42b69",
   "metadata": {},
   "outputs": [],
   "source": [
    "import os\n",
    "\n",
    "# Set environment variables\n",
    "# OPENAI_API_KEYとLANGCHAIN_API_KEYは.envから読み込む\n",
    "os.environ[\"OPENAI_API_KEY\"] = os.getenv(\"OPENAI_API_KEY\")\n",
    "os.environ[\"LANGCHAIN_API_KEY\"] = os.getenv(\"LANGCHAIN_API_KEY\")\n",
    "\n",
    "os.environ[\"LANGCHAIN_TRACING_V2\"] = \"true\"\n",
    "os.environ[\"LANGCHAIN_ENDPOINT\"] = \"https://api.smith.langchain.com\"\n",
    "os.environ[\"LANGCHAIN_PROJECT\"] = \"ai-agent-tutorial\""
   ]
  },
  {
   "cell_type": "code",
   "execution_count": 2,
   "id": "1dca5542",
   "metadata": {},
   "outputs": [],
   "source": [
    "ROLES = {\n",
    "    \"1\": {\n",
    "        \"name\": \"一般知識エキスパート\",\n",
    "        \"description\": \"幅広い分野の一般的な質問に答える\",\n",
    "        \"details\": \"幅広い分野の一般的な質問に対して、正確で分かりやすい回答を提供してください。\"\n",
    "    },\n",
    "    \"2\": {\n",
    "        \"name\": \"生成AI製品エキスパート\",\n",
    "        \"description\": \"生成AIや関連製品、技術に関する専門的な質問に答える\",\n",
    "        \"details\": \"生成AIや関連製品、技術に関する専門的な質問に対して、最新の情報と深い洞察を提供してください。\"\n",
    "    },\n",
    "    \"3\": {\n",
    "        \"name\": \"カウンセラー\",\n",
    "        \"description\": \"個人的な悩みや心理的な問題に対してサポートを提供する\",\n",
    "        \"details\": \"個人的な悩みや心理的な問題に対して、共感的で支援的な回答を提供し、可能であれば適切なアドバイスも行ってください。\"\n",
    "    }\n",
    "}"
   ]
  },
  {
   "cell_type": "code",
   "execution_count": 3,
   "id": "3940317d",
   "metadata": {},
   "outputs": [],
   "source": [
    "import operator\n",
    "from typing import Annotated\n",
    "\n",
    "from pydantic import BaseModel, Field\n",
    "\n",
    "\n",
    "class State(BaseModel):\n",
    "    query: str = Field(..., description=\"ユーザーからの質問\")\n",
    "    current_role: str = Field(\n",
    "        default=\"\", description=\"選定された回答ロール\"\n",
    "    )\n",
    "    messages: Annotated[list[str], operator.add] = Field(\n",
    "        default=[], description=\"回答履歴\"\n",
    "    )\n",
    "    current_judge: bool = Field(\n",
    "        default=False, description=\"品質チェックの結果\"\n",
    "    )\n",
    "    judgement_reason: str = Field(\n",
    "        default=\"\", description=\"品質チェックの判定理由\"\n",
    "    )"
   ]
  },
  {
   "cell_type": "code",
   "execution_count": 4,
   "id": "c25d2519",
   "metadata": {},
   "outputs": [],
   "source": [
    "from langchain_openai import ChatOpenAI\n",
    "from langchain_core.runnables import ConfigurableField\n",
    "\n",
    "llm = ChatOpenAI(model=\"gpt-4o\", temperature=0.0)\n",
    "# 後からmax_tokensの値を変更できるように、変更可能なフィールドを宣言\n",
    "llm = llm.configurable_fields(max_tokens=ConfigurableField(id='max_tokens'))"
   ]
  },
  {
   "cell_type": "code",
   "execution_count": 6,
   "id": "400f2eac",
   "metadata": {},
   "outputs": [],
   "source": [
    "from typing import Any\n",
    "\n",
    "from langchain_core.prompts import ChatPromptTemplate\n",
    "from langchain_core.output_parsers import StrOutputParser\n",
    "\n",
    "def selection_node(state: State) -> dict[str, Any]:\n",
    "    query = state.query\n",
    "    role_options = \"\\n\".join([f\"{k}. {v['name']}: {v['description']}\" for k, v in ROLES.items()])\n",
    "    prompt = ChatPromptTemplate.from_template(\n",
    "\"\"\"質問を分析し、最も適切な回答担当ロールを選択してください。\n",
    "\n",
    "選択肢:\n",
    "{role_options}\n",
    "\n",
    "回答は選択肢の番号（1、2、または3）のみを返してください。\n",
    "\n",
    "質問: {query}\n",
    "\"\"\".strip()\n",
    "    )\n",
    "    # 選択肢の番号のみを返すことを期待したいため、max_tokensの値を1に変更\n",
    "    chain = prompt | llm.with_config(configurable=dict(max_tokens=1)) | StrOutputParser()\n",
    "    role_number = chain.invoke({\"role_options\": role_options, \"query\": query})\n",
    "\n",
    "    selected_role = ROLES[role_number.strip()][\"name\"]\n",
    "    return {\"current_role\": selected_role}"
   ]
  },
  {
   "cell_type": "code",
   "execution_count": 7,
   "id": "4cfc22e7",
   "metadata": {},
   "outputs": [],
   "source": [
    "def answering_node(state: State) -> dict[str, Any]:\n",
    "    query = state.query\n",
    "    role = state.current_role\n",
    "    role_details = \"\\n\".join([f\"- {v['name']}: {v['details']}\" for v in ROLES.values()])\n",
    "    prompt = ChatPromptTemplate.from_template(\n",
    "\"\"\"あなたは{role}として回答してください。以下の質問に対して、あなたの役割に基づいた適切な回答を提供してください。\n",
    "\n",
    "役割の詳細:\n",
    "{role_details}\n",
    "\n",
    "質問: {query}\n",
    "\n",
    "回答:\"\"\".strip()\n",
    "    )\n",
    "    chain = prompt | llm | StrOutputParser()\n",
    "    answer = chain.invoke({\"role\": role, \"role_details\": role_details, \"query\": query})\n",
    "    return {\"messages\": [answer]}"
   ]
  },
  {
   "cell_type": "code",
   "execution_count": 8,
   "id": "fed95c4e",
   "metadata": {},
   "outputs": [],
   "source": [
    "class Judgement(BaseModel):\n",
    "    judge: bool = Field(default=False, description=\"判定結果\")\n",
    "    reason: str = Field(default=\"\", description=\"判定理由\")\n",
    "\n",
    "def check_node(state: State) -> dict[str, Any]:\n",
    "    query = state.query\n",
    "    answer = state.messages[-1]\n",
    "    prompt = ChatPromptTemplate.from_template(\n",
    "\"\"\"以下の回答の品質をチェックし、問題がある場合は'False'、問題がない場合は'True'を回答してください。\n",
    "また、その判断理由も説明してください。\n",
    "\n",
    "ユーザーからの質問: {query}\n",
    "回答: {answer}\n",
    "\"\"\".strip()\n",
    "    )\n",
    "    chain = prompt | llm.with_structured_output(Judgement)\n",
    "    result: Judgement = chain.invoke({\"query\": query, \"answer\": answer})\n",
    "\n",
    "    return {\n",
    "        \"current_judge\": result.judge,\n",
    "        \"judgement_reason\": result.reason\n",
    "    }"
   ]
  },
  {
   "cell_type": "code",
   "execution_count": 9,
   "id": "390cf956",
   "metadata": {},
   "outputs": [],
   "source": [
    "from langgraph.graph import StateGraph\n",
    "\n",
    "workflow = StateGraph(State)"
   ]
  },
  {
   "cell_type": "code",
   "execution_count": 10,
   "id": "a5fa1349",
   "metadata": {},
   "outputs": [
    {
     "data": {
      "text/plain": [
       "<langgraph.graph.state.StateGraph at 0x112d1f380>"
      ]
     },
     "execution_count": 10,
     "metadata": {},
     "output_type": "execute_result"
    }
   ],
   "source": [
    "workflow.add_node(\"selection\", selection_node)\n",
    "workflow.add_node(\"answering\", answering_node)\n",
    "workflow.add_node(\"check\", check_node)"
   ]
  },
  {
   "cell_type": "code",
   "execution_count": 11,
   "id": "7a0d56f5",
   "metadata": {},
   "outputs": [
    {
     "data": {
      "text/plain": [
       "<langgraph.graph.state.StateGraph at 0x112d1f380>"
      ]
     },
     "execution_count": 11,
     "metadata": {},
     "output_type": "execute_result"
    }
   ],
   "source": [
    "# selectionノードから処理を開始\n",
    "workflow.set_entry_point(\"selection\")"
   ]
  },
  {
   "cell_type": "code",
   "execution_count": 12,
   "id": "962cacd8",
   "metadata": {},
   "outputs": [
    {
     "data": {
      "text/plain": [
       "<langgraph.graph.state.StateGraph at 0x112d1f380>"
      ]
     },
     "execution_count": 12,
     "metadata": {},
     "output_type": "execute_result"
    }
   ],
   "source": [
    "# selectionノードからansweringノードへ\n",
    "workflow.add_edge(\"selection\", \"answering\")\n",
    "# answeringノードからcheckノードへ\n",
    "workflow.add_edge(\"answering\", \"check\")"
   ]
  },
  {
   "cell_type": "code",
   "execution_count": 13,
   "id": "35f61478",
   "metadata": {},
   "outputs": [
    {
     "data": {
      "text/plain": [
       "<langgraph.graph.state.StateGraph at 0x112d1f380>"
      ]
     },
     "execution_count": 13,
     "metadata": {},
     "output_type": "execute_result"
    }
   ],
   "source": [
    "from langgraph.graph import END\n",
    "\n",
    "# checkノードから次のノードへの遷移に条件付きエッジを定義\n",
    "# state.current_judgeの値がTrueならENDノードへ、Falseならselectionノードへ\n",
    "workflow.add_conditional_edges(\n",
    "    \"check\",\n",
    "    lambda state: state.current_judge,\n",
    "    {True: END, False: \"selection\"}\n",
    ")"
   ]
  },
  {
   "cell_type": "code",
   "execution_count": 14,
   "id": "6b2ca5e1",
   "metadata": {},
   "outputs": [],
   "source": [
    "compiled = workflow.compile()"
   ]
  },
  {
   "cell_type": "code",
   "execution_count": 15,
   "id": "f96196de",
   "metadata": {},
   "outputs": [],
   "source": [
    "initial_state = State(query=\"生成AIについて教えてください\")\n",
    "result = compiled.invoke(initial_state)"
   ]
  },
  {
   "cell_type": "code",
   "execution_count": 17,
   "metadata": {},
   "outputs": [
    {
     "data": {
      "text/plain": [
       "{'query': '生成AIについて教えてください',\n",
       " 'current_role': '生成AI製品エキスパート',\n",
       " 'messages': ['生成AI製品エキスパートとしてお答えします。\\n\\n生成AI（生成的人工知能）は、データから新しいコンテンツを生成する能力を持つAI技術の一分野です。これには、テキスト、画像、音声、動画などの生成が含まれます。生成AIの代表的な技術には、以下のようなものがあります。\\n\\n1. **GPT（Generative Pre-trained Transformer）**: これは、自然言語処理に特化したモデルで、テキストの生成や翻訳、要約などに利用されます。OpenAIのGPTシリーズが有名で、特にGPT-3やGPT-4は非常に高い精度で人間のようなテキストを生成することができます。\\n\\n2. **GAN（Generative Adversarial Networks）**: これは、画像生成に特化した技術で、二つのニューラルネットワーク（生成者と識別者）が競い合うことで、非常にリアルな画像を生成します。GANは、写真のような画像やアート作品の生成に利用されています。\\n\\n3. **VAE（Variational Autoencoders）**: これは、データの潜在的な構造を学習し、新しいデータを生成するために使用されます。VAEは、画像や音声の生成に利用されることが多いです。\\n\\n生成AIは、クリエイティブなコンテンツの制作、デザインの自動化、カスタマーサービスのチャットボット、教育コンテンツの生成など、さまざまな分野で活用されています。また、生成AIの進化により、より自然で人間らしいインタラクションが可能になり、ビジネスやエンターテインメントの分野での応用が広がっています。\\n\\nただし、生成AIには倫理的な課題も存在します。例えば、フェイクニュースの生成や著作権の問題などが挙げられます。これらの課題に対処するために、生成AIの開発と利用には慎重なアプローチが求められています。'],\n",
       " 'current_judge': True,\n",
       " 'judgement_reason': 'この回答は、生成AIについての基本的な情報を網羅的に提供しており、ユーザーの質問に対して適切に応答しています。以下の点で品質が高いと判断できます。\\n\\n1. **明確な定義**: 生成AIの定義が明確に示されており、どのようなコンテンツを生成できるかが具体的に説明されています。\\n\\n2. **技術の紹介**: GPT、GAN、VAEといった代表的な生成AI技術が紹介され、それぞれの用途や特徴が簡潔に説明されています。\\n\\n3. **応用例の提示**: 生成AIがどのような分野で活用されているか、具体的な例を挙げて説明しており、ユーザーが生成AIの実用性を理解しやすくなっています。\\n\\n4. **倫理的課題の指摘**: 生成AIに関連する倫理的な課題についても触れており、技術の利点だけでなく、注意すべき点も示しています。\\n\\n全体として、情報が整理されており、ユーザーが生成AIについての基本的な理解を得るのに十分な内容です。'}"
      ]
     },
     "metadata": {},
     "output_type": "display_data"
    }
   ],
   "source": [
    "display(result)"
   ]
  },
  {
   "cell_type": "code",
   "execution_count": 18,
   "metadata": {},
   "outputs": [
    {
     "name": "stdout",
     "output_type": "stream",
     "text": [
      "生成AI製品エキスパートとしてお答えします。\n",
      "\n",
      "生成AI（生成的人工知能）は、データから新しいコンテンツを生成する能力を持つAI技術の一分野です。これには、テキスト、画像、音声、動画などの生成が含まれます。生成AIの代表的な技術には、以下のようなものがあります。\n",
      "\n",
      "1. **GPT（Generative Pre-trained Transformer）**: これは、自然言語処理に特化したモデルで、テキストの生成や翻訳、要約などに利用されます。OpenAIのGPTシリーズが有名で、特にGPT-3やGPT-4は非常に高い精度で人間のようなテキストを生成することができます。\n",
      "\n",
      "2. **GAN（Generative Adversarial Networks）**: これは、画像生成に特化した技術で、二つのニューラルネットワーク（生成者と識別者）が競い合うことで、非常にリアルな画像を生成します。GANは、写真のような画像やアート作品の生成に利用されています。\n",
      "\n",
      "3. **VAE（Variational Autoencoders）**: これは、データの潜在的な構造を学習し、新しいデータを生成するために使用されます。VAEは、画像や音声の生成に利用されることが多いです。\n",
      "\n",
      "生成AIは、クリエイティブなコンテンツの制作、デザインの自動化、カスタマーサービスのチャットボット、教育コンテンツの生成など、さまざまな分野で活用されています。また、生成AIの進化により、より自然で人間らしいインタラクションが可能になり、ビジネスやエンターテインメントの分野での応用が広がっています。\n",
      "\n",
      "ただし、生成AIには倫理的な課題も存在します。例えば、フェイクニュースの生成や著作権の問題などが挙げられます。これらの課題に対処するために、生成AIの開発と利用には慎重なアプローチが求められています。\n"
     ]
    }
   ],
   "source": [
    "print(result[\"messages\"][-1])"
   ]
  },
  {
   "cell_type": "code",
   "execution_count": 20,
   "metadata": {},
   "outputs": [
    {
     "name": "stdout",
     "output_type": "stream",
     "text": [
      "この回答は、生成AIについての基本的な情報を網羅的に提供しており、ユーザーの質問に対して適切に応答しています。以下の点で品質が高いと判断できます。\n",
      "\n",
      "1. **明確な定義**: 生成AIの定義が明確に示されており、どのようなコンテンツを生成できるかが具体的に説明されています。\n",
      "\n",
      "2. **技術の紹介**: GPT、GAN、VAEといった代表的な生成AI技術が紹介され、それぞれの用途や特徴が簡潔に説明されています。\n",
      "\n",
      "3. **応用例の提示**: 生成AIがどのような分野で活用されているか、具体的な例を挙げて説明しており、ユーザーが生成AIの実用性を理解しやすくなっています。\n",
      "\n",
      "4. **倫理的課題の指摘**: 生成AIに関連する倫理的な課題についても触れており、技術の利点だけでなく、注意すべき点も示しています。\n",
      "\n",
      "全体として、情報が整理されており、ユーザーが生成AIについての基本的な理解を得るのに十分な内容です。\n"
     ]
    }
   ],
   "source": [
    "print(result[\"judgement_reason\"])"
   ]
  },
  {
   "cell_type": "code",
   "execution_count": 21,
   "metadata": {},
   "outputs": [
    {
     "data": {
      "text/plain": [
       "{'query': '生成AIについて教えてください',\n",
       " 'current_role': '生成AI製品エキスパート',\n",
       " 'messages': ['生成AI製品エキスパートとしてお答えします。\\n\\n生成AI（生成的人工知能）は、データから新しいコンテンツを生成する能力を持つAI技術の一分野です。これには、テキスト、画像、音声、音楽など、さまざまな形式のコンテンツが含まれます。生成AIの代表的な技術には、以下のようなものがあります。\\n\\n1. **自然言語処理（NLP）モデル**: 例えば、GPT（Generative Pre-trained Transformer）シリーズは、テキストの生成や翻訳、要約などに利用されます。これらのモデルは、大量のテキストデータを学習し、人間のように自然な文章を生成することができます。\\n\\n2. **画像生成モデル**: GAN（Generative Adversarial Networks）やVAE（Variational Autoencoders）などの技術を用いて、新しい画像を生成します。これにより、アート作品の創作や、現実には存在しない人物の顔を生成することが可能です。\\n\\n3. **音声合成**: TTS（Text-to-Speech）技術を用いて、テキストから自然な音声を生成します。これにより、音声アシスタントやナレーションの自動生成が可能になります。\\n\\n生成AIは、クリエイティブなプロセスを支援し、効率を向上させるために多くの分野で活用されています。例えば、コンテンツ制作、ゲーム開発、広告、教育などです。しかし、生成AIの利用には倫理的な課題も伴います。例えば、偽情報の生成や著作権の問題などが挙げられます。これらの課題に対処するためには、技術の透明性や責任ある利用が求められています。\\n\\n生成AIは急速に進化しており、今後も新しい応用が期待されています。最新の研究や製品情報を追い続けることが重要です。'],\n",
       " 'current_judge': True,\n",
       " 'judgement_reason': 'この回答は、生成AIについての基本的な情報を網羅的に提供しており、ユーザーの質問に対して適切に応答しています。以下の点で品質が高いと判断できます。\\n\\n1. **明確な定義**: 生成AIの定義を簡潔に説明し、どのような形式のコンテンツを生成できるかを示しています。\\n\\n2. **具体的な技術の紹介**: 自然言語処理、画像生成、音声合成といった具体的な技術を挙げ、それぞれの代表的なモデルや技術を説明しています。\\n\\n3. **応用例の提示**: 生成AIがどのような分野で活用されているかを具体的に示し、ユーザーがその実用性を理解しやすくしています。\\n\\n4. **倫理的課題の指摘**: 生成AIの利用に伴う倫理的な課題についても触れており、技術の利点だけでなく、注意すべき点も示しています。\\n\\n5. **将来の展望**: 生成AIの進化と今後の可能性についても言及しており、ユーザーに対して最新情報を追い続ける重要性を伝えています。\\n\\nこれらの理由から、この回答はユーザーの質問に対して適切であり、問題がないと判断しました。'}"
      ]
     },
     "execution_count": 21,
     "metadata": {},
     "output_type": "execute_result"
    }
   ],
   "source": [
    "initial_state = State(query=\"生成AIについて教えてください\")\n",
    "result = await compiled.ainvoke(initial_state)\n",
    "result"
   ]
  },
  {
   "cell_type": "code",
   "execution_count": null,
   "id": "62ac6aee",
   "metadata": {},
   "outputs": [],
   "source": [
    "!apt-get install graphviz libgraphviz-dev pkg-config\n",
    "!pip install pygraphviz"
   ]
  },
  {
   "cell_type": "code",
   "execution_count": null,
   "id": "a9b6a118",
   "metadata": {},
   "outputs": [],
   "source": [
    "https://colab.research.google.com/github/GenerativeAgents/agent-book/blob/main/chapter09/notebook.ipynb#scrollTo=42mZywA6kzWl"
   ]
  }
 ],
 "metadata": {
  "kernelspec": {
   "display_name": ".venv",
   "language": "python",
   "name": "python3"
  },
  "language_info": {
   "codemirror_mode": {
    "name": "ipython",
    "version": 3
   },
   "file_extension": ".py",
   "mimetype": "text/x-python",
   "name": "python",
   "nbconvert_exporter": "python",
   "pygments_lexer": "ipython3",
   "version": "3.12.4"
  }
 },
 "nbformat": 4,
 "nbformat_minor": 5
}
